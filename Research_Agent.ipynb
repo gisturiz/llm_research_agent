{
  "nbformat": 4,
  "nbformat_minor": 0,
  "metadata": {
    "colab": {
      "provenance": [],
      "authorship_tag": "ABX9TyNtr1fBAkh+/G0x+8FwggGw",
      "include_colab_link": true
    },
    "kernelspec": {
      "name": "python3",
      "display_name": "Python 3"
    },
    "language_info": {
      "name": "python"
    },
    "widgets": {
      "application/vnd.jupyter.widget-state+json": {
        "a15e2d30b2594f35a3522588a9aa66d4": {
          "model_module": "@jupyter-widgets/controls",
          "model_name": "HBoxModel",
          "model_module_version": "1.5.0",
          "state": {
            "_dom_classes": [],
            "_model_module": "@jupyter-widgets/controls",
            "_model_module_version": "1.5.0",
            "_model_name": "HBoxModel",
            "_view_count": null,
            "_view_module": "@jupyter-widgets/controls",
            "_view_module_version": "1.5.0",
            "_view_name": "HBoxView",
            "box_style": "",
            "children": [
              "IPY_MODEL_13b50d89a9d14a87afd62277f60a242c",
              "IPY_MODEL_746144b53a2849b9bbe6c57a14a2b59c",
              "IPY_MODEL_7b895cd5f92b44cca23cc89d2a4b0a86"
            ],
            "layout": "IPY_MODEL_c9a3c6dbe5ec41d0a412821da2d5a405"
          }
        },
        "13b50d89a9d14a87afd62277f60a242c": {
          "model_module": "@jupyter-widgets/controls",
          "model_name": "HTMLModel",
          "model_module_version": "1.5.0",
          "state": {
            "_dom_classes": [],
            "_model_module": "@jupyter-widgets/controls",
            "_model_module_version": "1.5.0",
            "_model_name": "HTMLModel",
            "_view_count": null,
            "_view_module": "@jupyter-widgets/controls",
            "_view_module_version": "1.5.0",
            "_view_name": "HTMLView",
            "description": "",
            "description_tooltip": null,
            "layout": "IPY_MODEL_541077fabd834fcba3afb5728cded0f6",
            "placeholder": "​",
            "style": "IPY_MODEL_a58f1987776142c3a29c16f8cf8c3687",
            "value": "README.md: 100%"
          }
        },
        "746144b53a2849b9bbe6c57a14a2b59c": {
          "model_module": "@jupyter-widgets/controls",
          "model_name": "FloatProgressModel",
          "model_module_version": "1.5.0",
          "state": {
            "_dom_classes": [],
            "_model_module": "@jupyter-widgets/controls",
            "_model_module_version": "1.5.0",
            "_model_name": "FloatProgressModel",
            "_view_count": null,
            "_view_module": "@jupyter-widgets/controls",
            "_view_module_version": "1.5.0",
            "_view_name": "ProgressView",
            "bar_style": "success",
            "description": "",
            "description_tooltip": null,
            "layout": "IPY_MODEL_70c7921d348e4094811a7305becbfdc9",
            "max": 24,
            "min": 0,
            "orientation": "horizontal",
            "style": "IPY_MODEL_8f85bae805c44a1cbc399bb95fe1376a",
            "value": 24
          }
        },
        "7b895cd5f92b44cca23cc89d2a4b0a86": {
          "model_module": "@jupyter-widgets/controls",
          "model_name": "HTMLModel",
          "model_module_version": "1.5.0",
          "state": {
            "_dom_classes": [],
            "_model_module": "@jupyter-widgets/controls",
            "_model_module_version": "1.5.0",
            "_model_name": "HTMLModel",
            "_view_count": null,
            "_view_module": "@jupyter-widgets/controls",
            "_view_module_version": "1.5.0",
            "_view_name": "HTMLView",
            "description": "",
            "description_tooltip": null,
            "layout": "IPY_MODEL_ce72a0614faa491cbfcbeaa310a0528c",
            "placeholder": "​",
            "style": "IPY_MODEL_9eb1984b52c442e5994fe29343fbd472",
            "value": " 24.0/24.0 [00:00&lt;00:00, 1.16kB/s]"
          }
        },
        "c9a3c6dbe5ec41d0a412821da2d5a405": {
          "model_module": "@jupyter-widgets/base",
          "model_name": "LayoutModel",
          "model_module_version": "1.2.0",
          "state": {
            "_model_module": "@jupyter-widgets/base",
            "_model_module_version": "1.2.0",
            "_model_name": "LayoutModel",
            "_view_count": null,
            "_view_module": "@jupyter-widgets/base",
            "_view_module_version": "1.2.0",
            "_view_name": "LayoutView",
            "align_content": null,
            "align_items": null,
            "align_self": null,
            "border": null,
            "bottom": null,
            "display": null,
            "flex": null,
            "flex_flow": null,
            "grid_area": null,
            "grid_auto_columns": null,
            "grid_auto_flow": null,
            "grid_auto_rows": null,
            "grid_column": null,
            "grid_gap": null,
            "grid_row": null,
            "grid_template_areas": null,
            "grid_template_columns": null,
            "grid_template_rows": null,
            "height": null,
            "justify_content": null,
            "justify_items": null,
            "left": null,
            "margin": null,
            "max_height": null,
            "max_width": null,
            "min_height": null,
            "min_width": null,
            "object_fit": null,
            "object_position": null,
            "order": null,
            "overflow": null,
            "overflow_x": null,
            "overflow_y": null,
            "padding": null,
            "right": null,
            "top": null,
            "visibility": null,
            "width": null
          }
        },
        "541077fabd834fcba3afb5728cded0f6": {
          "model_module": "@jupyter-widgets/base",
          "model_name": "LayoutModel",
          "model_module_version": "1.2.0",
          "state": {
            "_model_module": "@jupyter-widgets/base",
            "_model_module_version": "1.2.0",
            "_model_name": "LayoutModel",
            "_view_count": null,
            "_view_module": "@jupyter-widgets/base",
            "_view_module_version": "1.2.0",
            "_view_name": "LayoutView",
            "align_content": null,
            "align_items": null,
            "align_self": null,
            "border": null,
            "bottom": null,
            "display": null,
            "flex": null,
            "flex_flow": null,
            "grid_area": null,
            "grid_auto_columns": null,
            "grid_auto_flow": null,
            "grid_auto_rows": null,
            "grid_column": null,
            "grid_gap": null,
            "grid_row": null,
            "grid_template_areas": null,
            "grid_template_columns": null,
            "grid_template_rows": null,
            "height": null,
            "justify_content": null,
            "justify_items": null,
            "left": null,
            "margin": null,
            "max_height": null,
            "max_width": null,
            "min_height": null,
            "min_width": null,
            "object_fit": null,
            "object_position": null,
            "order": null,
            "overflow": null,
            "overflow_x": null,
            "overflow_y": null,
            "padding": null,
            "right": null,
            "top": null,
            "visibility": null,
            "width": null
          }
        },
        "a58f1987776142c3a29c16f8cf8c3687": {
          "model_module": "@jupyter-widgets/controls",
          "model_name": "DescriptionStyleModel",
          "model_module_version": "1.5.0",
          "state": {
            "_model_module": "@jupyter-widgets/controls",
            "_model_module_version": "1.5.0",
            "_model_name": "DescriptionStyleModel",
            "_view_count": null,
            "_view_module": "@jupyter-widgets/base",
            "_view_module_version": "1.2.0",
            "_view_name": "StyleView",
            "description_width": ""
          }
        },
        "70c7921d348e4094811a7305becbfdc9": {
          "model_module": "@jupyter-widgets/base",
          "model_name": "LayoutModel",
          "model_module_version": "1.2.0",
          "state": {
            "_model_module": "@jupyter-widgets/base",
            "_model_module_version": "1.2.0",
            "_model_name": "LayoutModel",
            "_view_count": null,
            "_view_module": "@jupyter-widgets/base",
            "_view_module_version": "1.2.0",
            "_view_name": "LayoutView",
            "align_content": null,
            "align_items": null,
            "align_self": null,
            "border": null,
            "bottom": null,
            "display": null,
            "flex": null,
            "flex_flow": null,
            "grid_area": null,
            "grid_auto_columns": null,
            "grid_auto_flow": null,
            "grid_auto_rows": null,
            "grid_column": null,
            "grid_gap": null,
            "grid_row": null,
            "grid_template_areas": null,
            "grid_template_columns": null,
            "grid_template_rows": null,
            "height": null,
            "justify_content": null,
            "justify_items": null,
            "left": null,
            "margin": null,
            "max_height": null,
            "max_width": null,
            "min_height": null,
            "min_width": null,
            "object_fit": null,
            "object_position": null,
            "order": null,
            "overflow": null,
            "overflow_x": null,
            "overflow_y": null,
            "padding": null,
            "right": null,
            "top": null,
            "visibility": null,
            "width": null
          }
        },
        "8f85bae805c44a1cbc399bb95fe1376a": {
          "model_module": "@jupyter-widgets/controls",
          "model_name": "ProgressStyleModel",
          "model_module_version": "1.5.0",
          "state": {
            "_model_module": "@jupyter-widgets/controls",
            "_model_module_version": "1.5.0",
            "_model_name": "ProgressStyleModel",
            "_view_count": null,
            "_view_module": "@jupyter-widgets/base",
            "_view_module_version": "1.2.0",
            "_view_name": "StyleView",
            "bar_color": null,
            "description_width": ""
          }
        },
        "ce72a0614faa491cbfcbeaa310a0528c": {
          "model_module": "@jupyter-widgets/base",
          "model_name": "LayoutModel",
          "model_module_version": "1.2.0",
          "state": {
            "_model_module": "@jupyter-widgets/base",
            "_model_module_version": "1.2.0",
            "_model_name": "LayoutModel",
            "_view_count": null,
            "_view_module": "@jupyter-widgets/base",
            "_view_module_version": "1.2.0",
            "_view_name": "LayoutView",
            "align_content": null,
            "align_items": null,
            "align_self": null,
            "border": null,
            "bottom": null,
            "display": null,
            "flex": null,
            "flex_flow": null,
            "grid_area": null,
            "grid_auto_columns": null,
            "grid_auto_flow": null,
            "grid_auto_rows": null,
            "grid_column": null,
            "grid_gap": null,
            "grid_row": null,
            "grid_template_areas": null,
            "grid_template_columns": null,
            "grid_template_rows": null,
            "height": null,
            "justify_content": null,
            "justify_items": null,
            "left": null,
            "margin": null,
            "max_height": null,
            "max_width": null,
            "min_height": null,
            "min_width": null,
            "object_fit": null,
            "object_position": null,
            "order": null,
            "overflow": null,
            "overflow_x": null,
            "overflow_y": null,
            "padding": null,
            "right": null,
            "top": null,
            "visibility": null,
            "width": null
          }
        },
        "9eb1984b52c442e5994fe29343fbd472": {
          "model_module": "@jupyter-widgets/controls",
          "model_name": "DescriptionStyleModel",
          "model_module_version": "1.5.0",
          "state": {
            "_model_module": "@jupyter-widgets/controls",
            "_model_module_version": "1.5.0",
            "_model_name": "DescriptionStyleModel",
            "_view_count": null,
            "_view_module": "@jupyter-widgets/base",
            "_view_module_version": "1.2.0",
            "_view_name": "StyleView",
            "description_width": ""
          }
        },
        "13a1364597d8426390c18b37e816eafe": {
          "model_module": "@jupyter-widgets/controls",
          "model_name": "HBoxModel",
          "model_module_version": "1.5.0",
          "state": {
            "_dom_classes": [],
            "_model_module": "@jupyter-widgets/controls",
            "_model_module_version": "1.5.0",
            "_model_name": "HBoxModel",
            "_view_count": null,
            "_view_module": "@jupyter-widgets/controls",
            "_view_module_version": "1.5.0",
            "_view_name": "HBoxView",
            "box_style": "",
            "children": [
              "IPY_MODEL_bc497feb71044102926cf7b847808c7c",
              "IPY_MODEL_ffbdfcbe3f8e42358b0c61dc44212335",
              "IPY_MODEL_95d011d49fdc44a6b9721a9ac70bc461"
            ],
            "layout": "IPY_MODEL_dbc099def7b647f2bf42a851aae8ee76"
          }
        },
        "bc497feb71044102926cf7b847808c7c": {
          "model_module": "@jupyter-widgets/controls",
          "model_name": "HTMLModel",
          "model_module_version": "1.5.0",
          "state": {
            "_dom_classes": [],
            "_model_module": "@jupyter-widgets/controls",
            "_model_module_version": "1.5.0",
            "_model_name": "HTMLModel",
            "_view_count": null,
            "_view_module": "@jupyter-widgets/controls",
            "_view_module_version": "1.5.0",
            "_view_name": "HTMLView",
            "description": "",
            "description_tooltip": null,
            "layout": "IPY_MODEL_be5e3ba2702548e0828d405e61e7c336",
            "placeholder": "​",
            "style": "IPY_MODEL_24611e1fcdb54278b9da34fcc9adf922",
            "value": "all_chunk_metadata.json: 100%"
          }
        },
        "ffbdfcbe3f8e42358b0c61dc44212335": {
          "model_module": "@jupyter-widgets/controls",
          "model_name": "FloatProgressModel",
          "model_module_version": "1.5.0",
          "state": {
            "_dom_classes": [],
            "_model_module": "@jupyter-widgets/controls",
            "_model_module_version": "1.5.0",
            "_model_name": "FloatProgressModel",
            "_view_count": null,
            "_view_module": "@jupyter-widgets/controls",
            "_view_module_version": "1.5.0",
            "_view_name": "ProgressView",
            "bar_style": "success",
            "description": "",
            "description_tooltip": null,
            "layout": "IPY_MODEL_63b3e1b5c6184071a50dcd1134fc7066",
            "max": 19647343,
            "min": 0,
            "orientation": "horizontal",
            "style": "IPY_MODEL_6b1e1786dd6645f2abf71a541e5b951c",
            "value": 19647343
          }
        },
        "95d011d49fdc44a6b9721a9ac70bc461": {
          "model_module": "@jupyter-widgets/controls",
          "model_name": "HTMLModel",
          "model_module_version": "1.5.0",
          "state": {
            "_dom_classes": [],
            "_model_module": "@jupyter-widgets/controls",
            "_model_module_version": "1.5.0",
            "_model_name": "HTMLModel",
            "_view_count": null,
            "_view_module": "@jupyter-widgets/controls",
            "_view_module_version": "1.5.0",
            "_view_name": "HTMLView",
            "description": "",
            "description_tooltip": null,
            "layout": "IPY_MODEL_e8bc991bcf0f41d2a628b65e0ac4ae88",
            "placeholder": "​",
            "style": "IPY_MODEL_9635ca519a514d0f931e8695a621a355",
            "value": " 19.6M/19.6M [00:00&lt;00:00, 34.8MB/s]"
          }
        },
        "dbc099def7b647f2bf42a851aae8ee76": {
          "model_module": "@jupyter-widgets/base",
          "model_name": "LayoutModel",
          "model_module_version": "1.2.0",
          "state": {
            "_model_module": "@jupyter-widgets/base",
            "_model_module_version": "1.2.0",
            "_model_name": "LayoutModel",
            "_view_count": null,
            "_view_module": "@jupyter-widgets/base",
            "_view_module_version": "1.2.0",
            "_view_name": "LayoutView",
            "align_content": null,
            "align_items": null,
            "align_self": null,
            "border": null,
            "bottom": null,
            "display": null,
            "flex": null,
            "flex_flow": null,
            "grid_area": null,
            "grid_auto_columns": null,
            "grid_auto_flow": null,
            "grid_auto_rows": null,
            "grid_column": null,
            "grid_gap": null,
            "grid_row": null,
            "grid_template_areas": null,
            "grid_template_columns": null,
            "grid_template_rows": null,
            "height": null,
            "justify_content": null,
            "justify_items": null,
            "left": null,
            "margin": null,
            "max_height": null,
            "max_width": null,
            "min_height": null,
            "min_width": null,
            "object_fit": null,
            "object_position": null,
            "order": null,
            "overflow": null,
            "overflow_x": null,
            "overflow_y": null,
            "padding": null,
            "right": null,
            "top": null,
            "visibility": null,
            "width": null
          }
        },
        "be5e3ba2702548e0828d405e61e7c336": {
          "model_module": "@jupyter-widgets/base",
          "model_name": "LayoutModel",
          "model_module_version": "1.2.0",
          "state": {
            "_model_module": "@jupyter-widgets/base",
            "_model_module_version": "1.2.0",
            "_model_name": "LayoutModel",
            "_view_count": null,
            "_view_module": "@jupyter-widgets/base",
            "_view_module_version": "1.2.0",
            "_view_name": "LayoutView",
            "align_content": null,
            "align_items": null,
            "align_self": null,
            "border": null,
            "bottom": null,
            "display": null,
            "flex": null,
            "flex_flow": null,
            "grid_area": null,
            "grid_auto_columns": null,
            "grid_auto_flow": null,
            "grid_auto_rows": null,
            "grid_column": null,
            "grid_gap": null,
            "grid_row": null,
            "grid_template_areas": null,
            "grid_template_columns": null,
            "grid_template_rows": null,
            "height": null,
            "justify_content": null,
            "justify_items": null,
            "left": null,
            "margin": null,
            "max_height": null,
            "max_width": null,
            "min_height": null,
            "min_width": null,
            "object_fit": null,
            "object_position": null,
            "order": null,
            "overflow": null,
            "overflow_x": null,
            "overflow_y": null,
            "padding": null,
            "right": null,
            "top": null,
            "visibility": null,
            "width": null
          }
        },
        "24611e1fcdb54278b9da34fcc9adf922": {
          "model_module": "@jupyter-widgets/controls",
          "model_name": "DescriptionStyleModel",
          "model_module_version": "1.5.0",
          "state": {
            "_model_module": "@jupyter-widgets/controls",
            "_model_module_version": "1.5.0",
            "_model_name": "DescriptionStyleModel",
            "_view_count": null,
            "_view_module": "@jupyter-widgets/base",
            "_view_module_version": "1.2.0",
            "_view_name": "StyleView",
            "description_width": ""
          }
        },
        "63b3e1b5c6184071a50dcd1134fc7066": {
          "model_module": "@jupyter-widgets/base",
          "model_name": "LayoutModel",
          "model_module_version": "1.2.0",
          "state": {
            "_model_module": "@jupyter-widgets/base",
            "_model_module_version": "1.2.0",
            "_model_name": "LayoutModel",
            "_view_count": null,
            "_view_module": "@jupyter-widgets/base",
            "_view_module_version": "1.2.0",
            "_view_name": "LayoutView",
            "align_content": null,
            "align_items": null,
            "align_self": null,
            "border": null,
            "bottom": null,
            "display": null,
            "flex": null,
            "flex_flow": null,
            "grid_area": null,
            "grid_auto_columns": null,
            "grid_auto_flow": null,
            "grid_auto_rows": null,
            "grid_column": null,
            "grid_gap": null,
            "grid_row": null,
            "grid_template_areas": null,
            "grid_template_columns": null,
            "grid_template_rows": null,
            "height": null,
            "justify_content": null,
            "justify_items": null,
            "left": null,
            "margin": null,
            "max_height": null,
            "max_width": null,
            "min_height": null,
            "min_width": null,
            "object_fit": null,
            "object_position": null,
            "order": null,
            "overflow": null,
            "overflow_x": null,
            "overflow_y": null,
            "padding": null,
            "right": null,
            "top": null,
            "visibility": null,
            "width": null
          }
        },
        "6b1e1786dd6645f2abf71a541e5b951c": {
          "model_module": "@jupyter-widgets/controls",
          "model_name": "ProgressStyleModel",
          "model_module_version": "1.5.0",
          "state": {
            "_model_module": "@jupyter-widgets/controls",
            "_model_module_version": "1.5.0",
            "_model_name": "ProgressStyleModel",
            "_view_count": null,
            "_view_module": "@jupyter-widgets/base",
            "_view_module_version": "1.2.0",
            "_view_name": "StyleView",
            "bar_color": null,
            "description_width": ""
          }
        },
        "e8bc991bcf0f41d2a628b65e0ac4ae88": {
          "model_module": "@jupyter-widgets/base",
          "model_name": "LayoutModel",
          "model_module_version": "1.2.0",
          "state": {
            "_model_module": "@jupyter-widgets/base",
            "_model_module_version": "1.2.0",
            "_model_name": "LayoutModel",
            "_view_count": null,
            "_view_module": "@jupyter-widgets/base",
            "_view_module_version": "1.2.0",
            "_view_name": "LayoutView",
            "align_content": null,
            "align_items": null,
            "align_self": null,
            "border": null,
            "bottom": null,
            "display": null,
            "flex": null,
            "flex_flow": null,
            "grid_area": null,
            "grid_auto_columns": null,
            "grid_auto_flow": null,
            "grid_auto_rows": null,
            "grid_column": null,
            "grid_gap": null,
            "grid_row": null,
            "grid_template_areas": null,
            "grid_template_columns": null,
            "grid_template_rows": null,
            "height": null,
            "justify_content": null,
            "justify_items": null,
            "left": null,
            "margin": null,
            "max_height": null,
            "max_width": null,
            "min_height": null,
            "min_width": null,
            "object_fit": null,
            "object_position": null,
            "order": null,
            "overflow": null,
            "overflow_x": null,
            "overflow_y": null,
            "padding": null,
            "right": null,
            "top": null,
            "visibility": null,
            "width": null
          }
        },
        "9635ca519a514d0f931e8695a621a355": {
          "model_module": "@jupyter-widgets/controls",
          "model_name": "DescriptionStyleModel",
          "model_module_version": "1.5.0",
          "state": {
            "_model_module": "@jupyter-widgets/controls",
            "_model_module_version": "1.5.0",
            "_model_name": "DescriptionStyleModel",
            "_view_count": null,
            "_view_module": "@jupyter-widgets/base",
            "_view_module_version": "1.2.0",
            "_view_name": "StyleView",
            "description_width": ""
          }
        },
        "8f3e2dce6e01480fa6f405e1bdee8fcd": {
          "model_module": "@jupyter-widgets/controls",
          "model_name": "HBoxModel",
          "model_module_version": "1.5.0",
          "state": {
            "_dom_classes": [],
            "_model_module": "@jupyter-widgets/controls",
            "_model_module_version": "1.5.0",
            "_model_name": "HBoxModel",
            "_view_count": null,
            "_view_module": "@jupyter-widgets/controls",
            "_view_module_version": "1.5.0",
            "_view_name": "HBoxView",
            "box_style": "",
            "children": [
              "IPY_MODEL_14c24d10dd4b42d9b57c6c9bd97bf795",
              "IPY_MODEL_9b0bcf959e254d9db29d4842957aade0",
              "IPY_MODEL_9c587fd7d26a4357971a39a4888ca087"
            ],
            "layout": "IPY_MODEL_9ed0b339bd3c47d88011b95df9fe95ea"
          }
        },
        "14c24d10dd4b42d9b57c6c9bd97bf795": {
          "model_module": "@jupyter-widgets/controls",
          "model_name": "HTMLModel",
          "model_module_version": "1.5.0",
          "state": {
            "_dom_classes": [],
            "_model_module": "@jupyter-widgets/controls",
            "_model_module_version": "1.5.0",
            "_model_name": "HTMLModel",
            "_view_count": null,
            "_view_module": "@jupyter-widgets/controls",
            "_view_module_version": "1.5.0",
            "_view_name": "HTMLView",
            "description": "",
            "description_tooltip": null,
            "layout": "IPY_MODEL_681907544b87445da96a5b47ba1e77c9",
            "placeholder": "​",
            "style": "IPY_MODEL_0875e16e34a64cbdb45be1bde1e442ee",
            "value": "Generating train split: 100%"
          }
        },
        "9b0bcf959e254d9db29d4842957aade0": {
          "model_module": "@jupyter-widgets/controls",
          "model_name": "FloatProgressModel",
          "model_module_version": "1.5.0",
          "state": {
            "_dom_classes": [],
            "_model_module": "@jupyter-widgets/controls",
            "_model_module_version": "1.5.0",
            "_model_name": "FloatProgressModel",
            "_view_count": null,
            "_view_module": "@jupyter-widgets/controls",
            "_view_module_version": "1.5.0",
            "_view_name": "ProgressView",
            "bar_style": "success",
            "description": "",
            "description_tooltip": null,
            "layout": "IPY_MODEL_03208ea7a17d43998a1e79851dbce1ea",
            "max": 54460,
            "min": 0,
            "orientation": "horizontal",
            "style": "IPY_MODEL_33a1a3e6555f42eebdd2f860fd2da0be",
            "value": 54460
          }
        },
        "9c587fd7d26a4357971a39a4888ca087": {
          "model_module": "@jupyter-widgets/controls",
          "model_name": "HTMLModel",
          "model_module_version": "1.5.0",
          "state": {
            "_dom_classes": [],
            "_model_module": "@jupyter-widgets/controls",
            "_model_module_version": "1.5.0",
            "_model_name": "HTMLModel",
            "_view_count": null,
            "_view_module": "@jupyter-widgets/controls",
            "_view_module_version": "1.5.0",
            "_view_name": "HTMLView",
            "description": "",
            "description_tooltip": null,
            "layout": "IPY_MODEL_3aec301a74b24f3f9d88f4afe7379210",
            "placeholder": "​",
            "style": "IPY_MODEL_1d6c481175774e70b0ddc85785369154",
            "value": " 54460/54460 [00:00&lt;00:00, 78885.96 examples/s]"
          }
        },
        "9ed0b339bd3c47d88011b95df9fe95ea": {
          "model_module": "@jupyter-widgets/base",
          "model_name": "LayoutModel",
          "model_module_version": "1.2.0",
          "state": {
            "_model_module": "@jupyter-widgets/base",
            "_model_module_version": "1.2.0",
            "_model_name": "LayoutModel",
            "_view_count": null,
            "_view_module": "@jupyter-widgets/base",
            "_view_module_version": "1.2.0",
            "_view_name": "LayoutView",
            "align_content": null,
            "align_items": null,
            "align_self": null,
            "border": null,
            "bottom": null,
            "display": null,
            "flex": null,
            "flex_flow": null,
            "grid_area": null,
            "grid_auto_columns": null,
            "grid_auto_flow": null,
            "grid_auto_rows": null,
            "grid_column": null,
            "grid_gap": null,
            "grid_row": null,
            "grid_template_areas": null,
            "grid_template_columns": null,
            "grid_template_rows": null,
            "height": null,
            "justify_content": null,
            "justify_items": null,
            "left": null,
            "margin": null,
            "max_height": null,
            "max_width": null,
            "min_height": null,
            "min_width": null,
            "object_fit": null,
            "object_position": null,
            "order": null,
            "overflow": null,
            "overflow_x": null,
            "overflow_y": null,
            "padding": null,
            "right": null,
            "top": null,
            "visibility": null,
            "width": null
          }
        },
        "681907544b87445da96a5b47ba1e77c9": {
          "model_module": "@jupyter-widgets/base",
          "model_name": "LayoutModel",
          "model_module_version": "1.2.0",
          "state": {
            "_model_module": "@jupyter-widgets/base",
            "_model_module_version": "1.2.0",
            "_model_name": "LayoutModel",
            "_view_count": null,
            "_view_module": "@jupyter-widgets/base",
            "_view_module_version": "1.2.0",
            "_view_name": "LayoutView",
            "align_content": null,
            "align_items": null,
            "align_self": null,
            "border": null,
            "bottom": null,
            "display": null,
            "flex": null,
            "flex_flow": null,
            "grid_area": null,
            "grid_auto_columns": null,
            "grid_auto_flow": null,
            "grid_auto_rows": null,
            "grid_column": null,
            "grid_gap": null,
            "grid_row": null,
            "grid_template_areas": null,
            "grid_template_columns": null,
            "grid_template_rows": null,
            "height": null,
            "justify_content": null,
            "justify_items": null,
            "left": null,
            "margin": null,
            "max_height": null,
            "max_width": null,
            "min_height": null,
            "min_width": null,
            "object_fit": null,
            "object_position": null,
            "order": null,
            "overflow": null,
            "overflow_x": null,
            "overflow_y": null,
            "padding": null,
            "right": null,
            "top": null,
            "visibility": null,
            "width": null
          }
        },
        "0875e16e34a64cbdb45be1bde1e442ee": {
          "model_module": "@jupyter-widgets/controls",
          "model_name": "DescriptionStyleModel",
          "model_module_version": "1.5.0",
          "state": {
            "_model_module": "@jupyter-widgets/controls",
            "_model_module_version": "1.5.0",
            "_model_name": "DescriptionStyleModel",
            "_view_count": null,
            "_view_module": "@jupyter-widgets/base",
            "_view_module_version": "1.2.0",
            "_view_name": "StyleView",
            "description_width": ""
          }
        },
        "03208ea7a17d43998a1e79851dbce1ea": {
          "model_module": "@jupyter-widgets/base",
          "model_name": "LayoutModel",
          "model_module_version": "1.2.0",
          "state": {
            "_model_module": "@jupyter-widgets/base",
            "_model_module_version": "1.2.0",
            "_model_name": "LayoutModel",
            "_view_count": null,
            "_view_module": "@jupyter-widgets/base",
            "_view_module_version": "1.2.0",
            "_view_name": "LayoutView",
            "align_content": null,
            "align_items": null,
            "align_self": null,
            "border": null,
            "bottom": null,
            "display": null,
            "flex": null,
            "flex_flow": null,
            "grid_area": null,
            "grid_auto_columns": null,
            "grid_auto_flow": null,
            "grid_auto_rows": null,
            "grid_column": null,
            "grid_gap": null,
            "grid_row": null,
            "grid_template_areas": null,
            "grid_template_columns": null,
            "grid_template_rows": null,
            "height": null,
            "justify_content": null,
            "justify_items": null,
            "left": null,
            "margin": null,
            "max_height": null,
            "max_width": null,
            "min_height": null,
            "min_width": null,
            "object_fit": null,
            "object_position": null,
            "order": null,
            "overflow": null,
            "overflow_x": null,
            "overflow_y": null,
            "padding": null,
            "right": null,
            "top": null,
            "visibility": null,
            "width": null
          }
        },
        "33a1a3e6555f42eebdd2f860fd2da0be": {
          "model_module": "@jupyter-widgets/controls",
          "model_name": "ProgressStyleModel",
          "model_module_version": "1.5.0",
          "state": {
            "_model_module": "@jupyter-widgets/controls",
            "_model_module_version": "1.5.0",
            "_model_name": "ProgressStyleModel",
            "_view_count": null,
            "_view_module": "@jupyter-widgets/base",
            "_view_module_version": "1.2.0",
            "_view_name": "StyleView",
            "bar_color": null,
            "description_width": ""
          }
        },
        "3aec301a74b24f3f9d88f4afe7379210": {
          "model_module": "@jupyter-widgets/base",
          "model_name": "LayoutModel",
          "model_module_version": "1.2.0",
          "state": {
            "_model_module": "@jupyter-widgets/base",
            "_model_module_version": "1.2.0",
            "_model_name": "LayoutModel",
            "_view_count": null,
            "_view_module": "@jupyter-widgets/base",
            "_view_module_version": "1.2.0",
            "_view_name": "LayoutView",
            "align_content": null,
            "align_items": null,
            "align_self": null,
            "border": null,
            "bottom": null,
            "display": null,
            "flex": null,
            "flex_flow": null,
            "grid_area": null,
            "grid_auto_columns": null,
            "grid_auto_flow": null,
            "grid_auto_rows": null,
            "grid_column": null,
            "grid_gap": null,
            "grid_row": null,
            "grid_template_areas": null,
            "grid_template_columns": null,
            "grid_template_rows": null,
            "height": null,
            "justify_content": null,
            "justify_items": null,
            "left": null,
            "margin": null,
            "max_height": null,
            "max_width": null,
            "min_height": null,
            "min_width": null,
            "object_fit": null,
            "object_position": null,
            "order": null,
            "overflow": null,
            "overflow_x": null,
            "overflow_y": null,
            "padding": null,
            "right": null,
            "top": null,
            "visibility": null,
            "width": null
          }
        },
        "1d6c481175774e70b0ddc85785369154": {
          "model_module": "@jupyter-widgets/controls",
          "model_name": "DescriptionStyleModel",
          "model_module_version": "1.5.0",
          "state": {
            "_model_module": "@jupyter-widgets/controls",
            "_model_module_version": "1.5.0",
            "_model_name": "DescriptionStyleModel",
            "_view_count": null,
            "_view_module": "@jupyter-widgets/base",
            "_view_module_version": "1.2.0",
            "_view_name": "StyleView",
            "description_width": ""
          }
        }
      }
    }
  },
  "cells": [
    {
      "cell_type": "markdown",
      "metadata": {
        "id": "view-in-github",
        "colab_type": "text"
      },
      "source": [
        "<a href=\"https://colab.research.google.com/github/gisturiz/llm_research_agent/blob/main/Research_Agent.ipynb\" target=\"_parent\"><img src=\"https://colab.research.google.com/assets/colab-badge.svg\" alt=\"Open In Colab\"/></a>"
      ]
    },
    {
      "cell_type": "markdown",
      "source": [
        "# Multi-Step LLM Research Agent"
      ],
      "metadata": {
        "id": "7TZEEQZ6XhVQ"
      }
    },
    {
      "cell_type": "markdown",
      "source": [
        "In this notebook, we will build a multi-step research tool making use of multiple agents each of which are equipped with specialized tools for performing their tasks.\n",
        "\n",
        "This agent will be built using LangGraph and have web-search, RAG search, arXiv search, and CDP SDK functionalities."
      ],
      "metadata": {
        "id": "3AiPcbJKXyTI"
      }
    },
    {
      "cell_type": "markdown",
      "source": [
        "### First we need to download our Python dependencies"
      ],
      "metadata": {
        "id": "Y5dtcyRYZGrW"
      }
    },
    {
      "cell_type": "code",
      "execution_count": null,
      "metadata": {
        "colab": {
          "base_uri": "https://localhost:8080/"
        },
        "id": "BJMnQNWfXVnq",
        "outputId": "fd4740a5-1a26-403b-cd60-5c22f8c0813e"
      },
      "outputs": [
        {
          "output_type": "stream",
          "name": "stdout",
          "text": [
            "  Preparing metadata (setup.py) ... \u001b[?25l\u001b[?25hdone\n",
            "\u001b[2K   \u001b[90m━━━━━━━━━━━━━━━━━━━━━━━━━━━━━━━━━━━━━━━━\u001b[0m \u001b[32m480.6/480.6 kB\u001b[0m \u001b[31m14.5 MB/s\u001b[0m eta \u001b[36m0:00:00\u001b[0m\n",
            "\u001b[2K   \u001b[90m━━━━━━━━━━━━━━━━━━━━━━━━━━━━━━━━━━━━━━━━\u001b[0m \u001b[32m54.7/54.7 kB\u001b[0m \u001b[31m3.3 MB/s\u001b[0m eta \u001b[36m0:00:00\u001b[0m\n",
            "\u001b[2K   \u001b[90m━━━━━━━━━━━━━━━━━━━━━━━━━━━━━━━━━━━━━━━━\u001b[0m \u001b[32m1.0/1.0 MB\u001b[0m \u001b[31m39.0 MB/s\u001b[0m eta \u001b[36m0:00:00\u001b[0m\n",
            "\u001b[2K   \u001b[90m━━━━━━━━━━━━━━━━━━━━━━━━━━━━━━━━━━━━━━━━\u001b[0m \u001b[32m413.0/413.0 kB\u001b[0m \u001b[31m23.1 MB/s\u001b[0m eta \u001b[36m0:00:00\u001b[0m\n",
            "\u001b[2K   \u001b[90m━━━━━━━━━━━━━━━━━━━━━━━━━━━━━━━━━━━━━━━━\u001b[0m \u001b[32m149.7/149.7 kB\u001b[0m \u001b[31m10.1 MB/s\u001b[0m eta \u001b[36m0:00:00\u001b[0m\n",
            "\u001b[2K   \u001b[90m━━━━━━━━━━━━━━━━━━━━━━━━━━━━━━━━━━━━━━━━\u001b[0m \u001b[32m85.7/85.7 kB\u001b[0m \u001b[31m4.9 MB/s\u001b[0m eta \u001b[36m0:00:00\u001b[0m\n",
            "\u001b[2K   \u001b[90m━━━━━━━━━━━━━━━━━━━━━━━━━━━━━━━━━━━━━━━━\u001b[0m \u001b[32m1.3/1.3 MB\u001b[0m \u001b[31m39.4 MB/s\u001b[0m eta \u001b[36m0:00:00\u001b[0m\n",
            "\u001b[2K   \u001b[90m━━━━━━━━━━━━━━━━━━━━━━━━━━━━━━━━━━━━━━━━\u001b[0m \u001b[32m116.3/116.3 kB\u001b[0m \u001b[31m7.0 MB/s\u001b[0m eta \u001b[36m0:00:00\u001b[0m\n",
            "\u001b[2K   \u001b[90m━━━━━━━━━━━━━━━━━━━━━━━━━━━━━━━━━━━━━━━━\u001b[0m \u001b[32m179.3/179.3 kB\u001b[0m \u001b[31m10.0 MB/s\u001b[0m eta \u001b[36m0:00:00\u001b[0m\n",
            "\u001b[2K   \u001b[90m━━━━━━━━━━━━━━━━━━━━━━━━━━━━━━━━━━━━━━━━\u001b[0m \u001b[32m44.7/44.7 kB\u001b[0m \u001b[31m3.2 MB/s\u001b[0m eta \u001b[36m0:00:00\u001b[0m\n",
            "\u001b[2K   \u001b[90m━━━━━━━━━━━━━━━━━━━━━━━━━━━━━━━━━━━━━━━━\u001b[0m \u001b[32m143.5/143.5 kB\u001b[0m \u001b[31m9.2 MB/s\u001b[0m eta \u001b[36m0:00:00\u001b[0m\n",
            "\u001b[2K   \u001b[90m━━━━━━━━━━━━━━━━━━━━━━━━━━━━━━━━━━━━━━━━\u001b[0m \u001b[32m427.3/427.3 kB\u001b[0m \u001b[31m21.9 MB/s\u001b[0m eta \u001b[36m0:00:00\u001b[0m\n",
            "\u001b[2K   \u001b[90m━━━━━━━━━━━━━━━━━━━━━━━━━━━━━━━━━━━━━━━━\u001b[0m \u001b[32m1.2/1.2 MB\u001b[0m \u001b[31m42.7 MB/s\u001b[0m eta \u001b[36m0:00:00\u001b[0m\n",
            "\u001b[2K   \u001b[90m━━━━━━━━━━━━━━━━━━━━━━━━━━━━━━━━━━━━━━━━\u001b[0m \u001b[32m194.8/194.8 kB\u001b[0m \u001b[31m9.7 MB/s\u001b[0m eta \u001b[36m0:00:00\u001b[0m\n",
            "\u001b[2K   \u001b[90m━━━━━━━━━━━━━━━━━━━━━━━━━━━━━━━━━━━━━━━━\u001b[0m \u001b[32m87.5/87.5 kB\u001b[0m \u001b[31m6.2 MB/s\u001b[0m eta \u001b[36m0:00:00\u001b[0m\n",
            "\u001b[2K   \u001b[90m━━━━━━━━━━━━━━━━━━━━━━━━━━━━━━━━━━━━━━━━\u001b[0m \u001b[32m50.3/50.3 kB\u001b[0m \u001b[31m3.3 MB/s\u001b[0m eta \u001b[36m0:00:00\u001b[0m\n",
            "\u001b[?25h  Building wheel for google-search-results (setup.py) ... \u001b[?25l\u001b[?25hdone\n",
            "\u001b[31mERROR: pip's dependency resolver does not currently take into account all the packages that are installed. This behaviour is the source of the following dependency conflicts.\n",
            "gcsfs 2024.10.0 requires fsspec==2024.10.0, but you have fsspec 2024.9.0 which is incompatible.\n",
            "torch 2.5.1+cu124 requires nvidia-cublas-cu12==12.4.5.8; platform_system == \"Linux\" and platform_machine == \"x86_64\", but you have nvidia-cublas-cu12 12.5.3.2 which is incompatible.\n",
            "torch 2.5.1+cu124 requires nvidia-cuda-cupti-cu12==12.4.127; platform_system == \"Linux\" and platform_machine == \"x86_64\", but you have nvidia-cuda-cupti-cu12 12.5.82 which is incompatible.\n",
            "torch 2.5.1+cu124 requires nvidia-cuda-nvrtc-cu12==12.4.127; platform_system == \"Linux\" and platform_machine == \"x86_64\", but you have nvidia-cuda-nvrtc-cu12 12.5.82 which is incompatible.\n",
            "torch 2.5.1+cu124 requires nvidia-cuda-runtime-cu12==12.4.127; platform_system == \"Linux\" and platform_machine == \"x86_64\", but you have nvidia-cuda-runtime-cu12 12.5.82 which is incompatible.\n",
            "torch 2.5.1+cu124 requires nvidia-cudnn-cu12==9.1.0.70; platform_system == \"Linux\" and platform_machine == \"x86_64\", but you have nvidia-cudnn-cu12 9.3.0.75 which is incompatible.\n",
            "torch 2.5.1+cu124 requires nvidia-cufft-cu12==11.2.1.3; platform_system == \"Linux\" and platform_machine == \"x86_64\", but you have nvidia-cufft-cu12 11.2.3.61 which is incompatible.\n",
            "torch 2.5.1+cu124 requires nvidia-curand-cu12==10.3.5.147; platform_system == \"Linux\" and platform_machine == \"x86_64\", but you have nvidia-curand-cu12 10.3.6.82 which is incompatible.\n",
            "torch 2.5.1+cu124 requires nvidia-cusolver-cu12==11.6.1.9; platform_system == \"Linux\" and platform_machine == \"x86_64\", but you have nvidia-cusolver-cu12 11.6.3.83 which is incompatible.\n",
            "torch 2.5.1+cu124 requires nvidia-cusparse-cu12==12.3.1.170; platform_system == \"Linux\" and platform_machine == \"x86_64\", but you have nvidia-cusparse-cu12 12.5.1.3 which is incompatible.\n",
            "torch 2.5.1+cu124 requires nvidia-nvjitlink-cu12==12.4.127; platform_system == \"Linux\" and platform_machine == \"x86_64\", but you have nvidia-nvjitlink-cu12 12.5.82 which is incompatible.\u001b[0m\u001b[31m\n",
            "\u001b[0m"
          ]
        }
      ],
      "source": [
        "!pip install -qU datasets langchain-pinecone langchain-openai langchain langchain-core langgraph semantic-router serpapi google-search-results"
      ]
    },
    {
      "cell_type": "markdown",
      "source": [
        "## Setup our knowledge base\n",
        "\n",
        "We will download a dataset from Huggingface and upload it to a vector database in Pinecone."
      ],
      "metadata": {
        "id": "1-u4sfpVZiIZ"
      }
    },
    {
      "cell_type": "code",
      "source": [
        "from datasets import load_dataset\n",
        "\n",
        "dataset = load_dataset(\"gisturiz/arxiv_blockchain_crypto_papers_semantic\", split=\"train\")\n",
        "dataset"
      ],
      "metadata": {
        "colab": {
          "base_uri": "https://localhost:8080/",
          "height": 292,
          "referenced_widgets": [
            "a15e2d30b2594f35a3522588a9aa66d4",
            "13b50d89a9d14a87afd62277f60a242c",
            "746144b53a2849b9bbe6c57a14a2b59c",
            "7b895cd5f92b44cca23cc89d2a4b0a86",
            "c9a3c6dbe5ec41d0a412821da2d5a405",
            "541077fabd834fcba3afb5728cded0f6",
            "a58f1987776142c3a29c16f8cf8c3687",
            "70c7921d348e4094811a7305becbfdc9",
            "8f85bae805c44a1cbc399bb95fe1376a",
            "ce72a0614faa491cbfcbeaa310a0528c",
            "9eb1984b52c442e5994fe29343fbd472",
            "13a1364597d8426390c18b37e816eafe",
            "bc497feb71044102926cf7b847808c7c",
            "ffbdfcbe3f8e42358b0c61dc44212335",
            "95d011d49fdc44a6b9721a9ac70bc461",
            "dbc099def7b647f2bf42a851aae8ee76",
            "be5e3ba2702548e0828d405e61e7c336",
            "24611e1fcdb54278b9da34fcc9adf922",
            "63b3e1b5c6184071a50dcd1134fc7066",
            "6b1e1786dd6645f2abf71a541e5b951c",
            "e8bc991bcf0f41d2a628b65e0ac4ae88",
            "9635ca519a514d0f931e8695a621a355",
            "8f3e2dce6e01480fa6f405e1bdee8fcd",
            "14c24d10dd4b42d9b57c6c9bd97bf795",
            "9b0bcf959e254d9db29d4842957aade0",
            "9c587fd7d26a4357971a39a4888ca087",
            "9ed0b339bd3c47d88011b95df9fe95ea",
            "681907544b87445da96a5b47ba1e77c9",
            "0875e16e34a64cbdb45be1bde1e442ee",
            "03208ea7a17d43998a1e79851dbce1ea",
            "33a1a3e6555f42eebdd2f860fd2da0be",
            "3aec301a74b24f3f9d88f4afe7379210",
            "1d6c481175774e70b0ddc85785369154"
          ]
        },
        "id": "ee5LwefKZ-rv",
        "outputId": "06637820-f8c0-437d-c89c-a1e52c647616"
      },
      "execution_count": null,
      "outputs": [
        {
          "output_type": "stream",
          "name": "stderr",
          "text": [
            "/usr/local/lib/python3.11/dist-packages/huggingface_hub/utils/_auth.py:94: UserWarning: \n",
            "The secret `HF_TOKEN` does not exist in your Colab secrets.\n",
            "To authenticate with the Hugging Face Hub, create a token in your settings tab (https://huggingface.co/settings/tokens), set it as secret in your Google Colab and restart your session.\n",
            "You will be able to reuse this secret in all of your notebooks.\n",
            "Please note that authentication is recommended but still optional to access public models or datasets.\n",
            "  warnings.warn(\n"
          ]
        },
        {
          "output_type": "display_data",
          "data": {
            "text/plain": [
              "README.md:   0%|          | 0.00/24.0 [00:00<?, ?B/s]"
            ],
            "application/vnd.jupyter.widget-view+json": {
              "version_major": 2,
              "version_minor": 0,
              "model_id": "a15e2d30b2594f35a3522588a9aa66d4"
            }
          },
          "metadata": {}
        },
        {
          "output_type": "display_data",
          "data": {
            "text/plain": [
              "all_chunk_metadata.json:   0%|          | 0.00/19.6M [00:00<?, ?B/s]"
            ],
            "application/vnd.jupyter.widget-view+json": {
              "version_major": 2,
              "version_minor": 0,
              "model_id": "13a1364597d8426390c18b37e816eafe"
            }
          },
          "metadata": {}
        },
        {
          "output_type": "display_data",
          "data": {
            "text/plain": [
              "Generating train split:   0%|          | 0/54460 [00:00<?, ? examples/s]"
            ],
            "application/vnd.jupyter.widget-view+json": {
              "version_major": 2,
              "version_minor": 0,
              "model_id": "8f3e2dce6e01480fa6f405e1bdee8fcd"
            }
          },
          "metadata": {}
        },
        {
          "output_type": "execute_result",
          "data": {
            "text/plain": [
              "Dataset({\n",
              "    features: ['id', 'title', 'content', 'prechunk_id', 'postchunk_id', 'references'],\n",
              "    num_rows: 54460\n",
              "})"
            ]
          },
          "metadata": {},
          "execution_count": 2
        }
      ]
    },
    {
      "cell_type": "code",
      "source": [
        "dataset[0]"
      ],
      "metadata": {
        "colab": {
          "base_uri": "https://localhost:8080/"
        },
        "id": "CxUrjhQzZ_f-",
        "outputId": "454f0e87-8209-4b18-de0d-b3154c22f1e9"
      },
      "execution_count": null,
      "outputs": [
        {
          "output_type": "execute_result",
          "data": {
            "text/plain": [
              "{'id': '2011.13240#0',\n",
              " 'title': 'Blockchain mechanism and distributional characteristics of cryptos',\n",
              " 'content': 'Blockchain mechanism and distributional characteristics of\\ncryptos∗\\nMin-Bin Lin†Kainat Khowaja‡Cathy Yi-Hsuan Chen§\\nWolfgang Karl H\\x7f ardle¶\\nAbstract\\nWe investigate the relationship between underlying blockchain mechanism of cryptocurren-\\ncies and its distributional characteristics. In addition to price, we emphasise on using actual\\nblock size and block time as the operational features of cryptos.',\n",
              " 'prechunk_id': '',\n",
              " 'postchunk_id': '2011.13240#1',\n",
              " 'references': '2011.13240'}"
            ]
          },
          "metadata": {},
          "execution_count": 3
        }
      ]
    },
    {
      "cell_type": "markdown",
      "source": [
        "## Initialize embedding encoder\n",
        "\n",
        "You can get an OpenAI API key here - https://platform.openai.com/"
      ],
      "metadata": {
        "id": "PjaqiKluauBi"
      }
    },
    {
      "cell_type": "code",
      "source": [
        "import os\n",
        "from getpass import getpass\n",
        "from semantic_router.encoders import OpenAIEncoder\n",
        "\n",
        "os.environ[\"OPENAI_API_KEY\"] = os.getenv(\"OPENAI_API_KEY\") or getpass(\"OpenAI API key: \")\n",
        "\n",
        "encoder = OpenAIEncoder(name=\"text-embedding-3-small\")"
      ],
      "metadata": {
        "colab": {
          "base_uri": "https://localhost:8080/"
        },
        "id": "SiKeR-yKaCM_",
        "outputId": "2f79ab93-3759-4207-815c-8cd4b89d53e2"
      },
      "execution_count": null,
      "outputs": [
        {
          "name": "stdout",
          "output_type": "stream",
          "text": [
            "OpenAI API key: ··········\n"
          ]
        }
      ]
    },
    {
      "cell_type": "markdown",
      "source": [
        "## Initialize our Pineconde index\n",
        "\n",
        "You can get a Pinecone account and API key here - https://www.pinecone.io/"
      ],
      "metadata": {
        "id": "fm0AADK6bG1B"
      }
    },
    {
      "cell_type": "code",
      "source": [
        "from pinecone import Pinecone\n",
        "\n",
        "# initialize connection to pinecone (get API key at app.pinecone.io)\n",
        "api_key = os.getenv(\"PINECONE_API_KEY\") or getpass(\"Pinecone API key: \")\n",
        "\n",
        "# configure client\n",
        "pc = Pinecone(api_key=api_key)"
      ],
      "metadata": {
        "colab": {
          "base_uri": "https://localhost:8080/"
        },
        "id": "EFrZEkjqa211",
        "outputId": "f56bf0d1-15e9-4716-85cd-f934a65ce8d8"
      },
      "execution_count": null,
      "outputs": [
        {
          "name": "stdout",
          "output_type": "stream",
          "text": [
            "Pinecone API key: ··········\n"
          ]
        }
      ]
    },
    {
      "cell_type": "code",
      "source": [
        "import time\n",
        "\n",
        "index_name = \"better-rag-chunking\"\n",
        "\n",
        "# check if index already exists (it shouldn't if this is first time)\n",
        "if index_name not in pc.list_indexes().names():\n",
        "    # if does not exist, create index\n",
        "    pc.create_index(\n",
        "        index_name,\n",
        "        dimension=1536,  # dimensionality of embed 3\n",
        "        metric='dotproduct'\n",
        "    )\n",
        "    # wait for index to be initialized\n",
        "    while not pc.describe_index(index_name).status['ready']:\n",
        "        time.sleep(1)\n",
        "\n",
        "# connect to index\n",
        "index = pc.Index(index_name)\n",
        "time.sleep(1)\n",
        "# view index stats\n",
        "index.describe_index_stats()"
      ],
      "metadata": {
        "colab": {
          "base_uri": "https://localhost:8080/"
        },
        "id": "Lp5NVaExbSWM",
        "outputId": "3e296dca-3bf1-4c98-e508-1d5a871790e4"
      },
      "execution_count": null,
      "outputs": [
        {
          "output_type": "execute_result",
          "data": {
            "text/plain": [
              "{'dimension': 1536,\n",
              " 'index_fullness': 0.0,\n",
              " 'namespaces': {'': {'vector_count': 10000}},\n",
              " 'total_vector_count': 10000}"
            ]
          },
          "metadata": {},
          "execution_count": 7
        }
      ]
    },
    {
      "cell_type": "markdown",
      "source": [
        "We can now populate our vector index with the following command"
      ],
      "metadata": {
        "id": "q-mpTq0cb4ea"
      }
    },
    {
      "cell_type": "code",
      "source": [
        "from tqdm.auto import tqdm\n",
        "\n",
        "# easier to work with dataset as pandas dataframe\n",
        "data = dataset.to_pandas().iloc[:10000]\n",
        "\n",
        "batch_size = 128\n",
        "\n",
        "for i in tqdm(range(0, len(data), batch_size)):\n",
        "    i_end = min(len(data), i+batch_size)\n",
        "    batch = data[i:i_end].to_dict(orient=\"records\")\n",
        "    # get batch of data\n",
        "    metadata = [{\n",
        "        \"title\": r[\"title\"],\n",
        "        \"content\": r[\"content\"],\n",
        "        \"arxiv_id\": r[\"id\"],\n",
        "        \"references\": r[\"references\"]\n",
        "    } for r in batch]\n",
        "    # generate unique ids for each chunk\n",
        "    ids = [r[\"id\"] for r in batch]\n",
        "    # get text content to embed\n",
        "    content = [r[\"content\"] for r in batch]\n",
        "    # embed text\n",
        "    embeds = encoder(content)\n",
        "    # add to Pinecone\n",
        "    index.upsert(vectors=zip(ids, embeds, metadata))"
      ],
      "metadata": {
        "id": "GVZ0bhXqbgIS"
      },
      "execution_count": null,
      "outputs": []
    },
    {
      "cell_type": "markdown",
      "source": [
        "## Define our Graph State\n",
        "\n",
        "Let's define a custom graph state to support our agent-oriented decision making.\n"
      ],
      "metadata": {
        "id": "OhaQK3nKcJmy"
      }
    },
    {
      "cell_type": "code",
      "source": [
        "from typing import TypedDict, Annotated, List, Union\n",
        "from langchain_core.agents import AgentAction, AgentFinish\n",
        "from langchain_core.messages import BaseMessage\n",
        "import operator\n",
        "\n",
        "\n",
        "class AgentState(TypedDict):\n",
        "    input: str\n",
        "    chat_history: list[BaseMessage]\n",
        "    intermediate_steps: Annotated[list[tuple[AgentAction, str]], operator.add]"
      ],
      "metadata": {
        "id": "AgqgjkVMcRGs"
      },
      "execution_count": null,
      "outputs": []
    },
    {
      "cell_type": "markdown",
      "source": [
        "There are 3 parts to our agent state, those are:\n",
        "\n",
        "* `input`: this is the user's most recent query, usually this would be a question that we want to answer with our research agent.\n",
        "* `chat_history`: we are building a conversational agent that can support multiple interactions, to allow previous interactions to provide additional context throughout our agent logic we include the chat history in the agent state.\n",
        "* `intermediate_steps`: provides a record of all steps the research agent will take between the user asking a question via `input` and the agent providing a final answer. This can include things like \"search arxiv\", \"perform general purpose web search\", etc. These intermediate steps are crucial to allowing the agent to follow a path of coherent actions and ultimately producing an informed final answer."
      ],
      "metadata": {
        "id": "dW0P0FeNcaEN"
      }
    },
    {
      "cell_type": "markdown",
      "source": [
        "## Custom tools\n",
        "\n",
        "Now we can define the different tools we want our model to have access to during its research."
      ],
      "metadata": {
        "id": "p1bX7owycrQd"
      }
    },
    {
      "cell_type": "markdown",
      "source": [
        "## ArXiv article fetching\n",
        "\n",
        "The `fetch_arxiv` tool will allow our agent to get the summary of a specific paper given an ArXiv paper ID. To do this, we will simply send a GET request to arXiv and use regex to extract the paper abstract."
      ],
      "metadata": {
        "id": "pvPkBG2fc45H"
      }
    },
    {
      "cell_type": "code",
      "source": [
        "from langchain_core.tools import tool\n",
        "import requests\n",
        "import re\n",
        "\n",
        "# our regex\n",
        "abstract_pattern = re.compile(\n",
        "    r'<blockquote class=\"abstract mathjax\">\\s*<span class=\"descriptor\">Abstract:</span>\\s*(.*?)\\s*</blockquote>',\n",
        "    re.DOTALL\n",
        ")\n",
        "\n",
        "@tool(\"fetch_arxiv\")\n",
        "def fetch_arxiv(arxiv_id: str):\n",
        "    \"\"\"Gets the abstract from an ArXiv paper given the arxiv ID. Useful for\n",
        "    finding high-level context about a specific paper.\"\"\"\n",
        "    # get paper page in html\n",
        "    res = requests.get(\n",
        "        f\"https://export.arxiv.org/abs/{arxiv_id}\"\n",
        "    )\n",
        "    # search html for abstract\n",
        "    re_match = abstract_pattern.search(res.text)\n",
        "    # return abstract text\n",
        "    return re_match.group(1)"
      ],
      "metadata": {
        "id": "gLuOgPjScTAc"
      },
      "execution_count": null,
      "outputs": []
    },
    {
      "cell_type": "markdown",
      "source": [
        "Let's test our tool"
      ],
      "metadata": {
        "id": "Txz3V_JOdlD_"
      }
    },
    {
      "cell_type": "code",
      "source": [
        "print(\n",
        "    fetch_arxiv.invoke(input={\"arxiv_id\": \"2011.13240\"})\n",
        ")"
      ],
      "metadata": {
        "colab": {
          "base_uri": "https://localhost:8080/"
        },
        "id": "Zuw51aFXdfat",
        "outputId": "c04c2533-2748-4f94-fc0a-3fdd21c2652f"
      },
      "execution_count": null,
      "outputs": [
        {
          "output_type": "stream",
          "name": "stdout",
          "text": [
            "We investigate the relationship between underlying blockchain mechanism of\n",
            "cryptocurrencies and its distributional characteristics. In addition to price,\n",
            "we emphasise on using actual block size and block time as the operational\n",
            "features of cryptos. We use distributional characteristics such as fourier\n",
            "power spectrum, moments, quantiles, global we optimums, as well as the measures\n",
            "for long term dependencies, risk and noise to summarise the information from\n",
            "crypto time series. With the hypothesis that the blockchain structure explains\n",
            "the distributional characteristics of cryptos, we use characteristic based\n",
            "spectral clustering to cluster the selected cryptos into five groups. We\n",
            "scrutinise these clusters and find that indeed, the clusters of cryptos share\n",
            "similar mechanism such as origin of fork, difficulty adjustment frequency, and\n",
            "the nature of block size. This paper provides crypto creators and users with a\n",
            "better understanding toward the connection between the blockchain protocol\n",
            "design and distributional characteristics of cryptos.\n"
          ]
        }
      ]
    },
    {
      "cell_type": "markdown",
      "source": [
        "## Web search tool\n",
        "\n",
        "We will be using SerpAPIs Google search tool. You can get an API here - https://serpapi.com/"
      ],
      "metadata": {
        "id": "YZvtFg8wdzOw"
      }
    },
    {
      "cell_type": "code",
      "source": [
        "from serpapi import GoogleSearch\n",
        "\n",
        "serpapi_params = {\n",
        "    \"engine\": \"google\",\n",
        "    \"api_key\": os.getenv(\"SERPAPI_KEY\") or getpass(\"SerpAPI key: \")\n",
        "}\n",
        "\n",
        "@tool(\"web_search\")\n",
        "def web_search(query: str):\n",
        "    \"\"\"Finds general knowledge information using Google search. Can also be used\n",
        "    to augment more 'general' knowledge to a previous specialist query.\"\"\"\n",
        "    search = GoogleSearch({\n",
        "        **serpapi_params,\n",
        "        \"q\": query,\n",
        "        \"num\": 5\n",
        "    })\n",
        "    results = search.get_dict()[\"organic_results\"]\n",
        "    contexts = \"\\n---\\n\".join(\n",
        "        [\"\\n\".join([x[\"title\"], x[\"snippet\"], x[\"link\"]]) for x in results]\n",
        "    )\n",
        "    return contexts"
      ],
      "metadata": {
        "colab": {
          "base_uri": "https://localhost:8080/"
        },
        "id": "f-BUP2L9dqYy",
        "outputId": "8bb6559f-b440-453b-ec0f-21f1bf3f71f1"
      },
      "execution_count": null,
      "outputs": [
        {
          "name": "stdout",
          "output_type": "stream",
          "text": [
            "SerpAPI key: ··········\n"
          ]
        }
      ]
    },
    {
      "cell_type": "markdown",
      "source": [
        "Now lets test this tool."
      ],
      "metadata": {
        "id": "X4dKI6EDeWdv"
      }
    },
    {
      "cell_type": "code",
      "source": [
        "print(\n",
        "    web_search.invoke(input={\"query\": \"ethereum\"})\n",
        ")"
      ],
      "metadata": {
        "colab": {
          "base_uri": "https://localhost:8080/"
        },
        "id": "3xTes_ECePJd",
        "outputId": "895c9608-7829-41de-bd8f-3c449cf6f89d"
      },
      "execution_count": null,
      "outputs": [
        {
          "output_type": "stream",
          "name": "stdout",
          "text": [
            "Ethereum price today, ETH to USD live price, marketcap ...\n",
            "The live Ethereum price today is $2680.84 USD with a 24-hour trading volume of $17606983346.23 USD. We update our ETH to USD price in real-time.\n",
            "https://coinmarketcap.com/currencies/ethereum/\n",
            "---\n",
            "r/ethereum\n",
            "Use this thread to discuss Ethereum topics, news, events, and even price! Price discussion posted elsewhere in the subreddit will continue to be removed.\n",
            "https://www.reddit.com/r/ethereum/\n",
            "---\n",
            "Ethereum.org: The complete guide to Ethereum\n",
            "Ethereum is a global, decentralized platform for money and new kinds of applications. On Ethereum, you can write code that controls money, ...\n",
            "https://ethereum.org/en/\n"
          ]
        }
      ]
    },
    {
      "cell_type": "markdown",
      "source": [
        "## RAG Tools\n",
        "\n",
        "We provide two RAG-focused tools for our agent. The `rag_search` allows the agent to perform a simple RAG search for some information across _all_ indexed research papers. The `rag_search_filter` also searches, but _within_ a specific paper which is filtered for via the `arxiv_id` parameter.\n",
        "\n",
        "We also define the `format_rag_contexts` function to handle the transformation of our Pinecone results from a JSON object to a readble plaintext format."
      ],
      "metadata": {
        "id": "iMDOwCqeexIj"
      }
    },
    {
      "cell_type": "code",
      "source": [
        "from langchain_core.tools import tool\n",
        "\n",
        "def format_rag_contexts(matches: list):\n",
        "    contexts = []\n",
        "    for x in matches:\n",
        "        text = (\n",
        "            f\"Title: {x['metadata']['title']}\\n\"\n",
        "            f\"Content: {x['metadata']['content']}\\n\"\n",
        "            f\"ArXiv ID: {x['metadata']['arxiv_id']}\\n\"\n",
        "            f\"Related Papers: {x['metadata']['references']}\\n\"\n",
        "        )\n",
        "        contexts.append(text)\n",
        "    context_str = \"\\n---\\n\".join(contexts)\n",
        "    return context_str\n",
        "\n",
        "@tool(\"rag_search_filter\")\n",
        "def rag_search_filter(query: str, arxiv_id: str):\n",
        "    \"\"\"Finds information from our ArXiv database using a natural language query\n",
        "    and a specific ArXiv ID. Allows us to learn more details about a specific paper.\"\"\"\n",
        "    xq = encoder([query])\n",
        "    xc = index.query(vector=xq, top_k=6, include_metadata=True, filter={\"arxiv_id\": arxiv_id})\n",
        "    context_str = format_rag_contexts(xc[\"matches\"])\n",
        "    return context_str\n",
        "\n",
        "@tool(\"rag_search\")\n",
        "def rag_search(query: str):\n",
        "    \"\"\"Finds specialist information on AI using a natural language query.\"\"\"\n",
        "    xq = encoder([query])\n",
        "    xc = index.query(vector=xq, top_k=10, include_metadata=True)\n",
        "    context_str = format_rag_contexts(xc[\"matches\"])\n",
        "    return context_str"
      ],
      "metadata": {
        "id": "0t5l7qBlelZ_"
      },
      "execution_count": null,
      "outputs": []
    },
    {
      "cell_type": "markdown",
      "source": [
        "## Final answer\n",
        "\n",
        "This tool will allow our agent to output a well formatted answer to us at the end of the research."
      ],
      "metadata": {
        "id": "U2ZWhccee_QO"
      }
    },
    {
      "cell_type": "code",
      "source": [
        "@tool(\"final_answer\")\n",
        "def final_answer(\n",
        "    introduction: str,\n",
        "    research_steps: str,\n",
        "    main_body: str,\n",
        "    conclusion: str,\n",
        "    sources: str\n",
        "):\n",
        "    \"\"\"Returns a natural language response to the user in the form of a research\n",
        "    report. There are several sections to this report, those are:\n",
        "    - `introduction`: a short paragraph introducing the user's question and the\n",
        "    topic we are researching.\n",
        "    - `research_steps`: a few bullet points explaining the steps that were taken\n",
        "    to research your report.\n",
        "    - `main_body`: this is where the bulk of high quality and concise\n",
        "    information that answers the user's question belongs. It is 3-4 paragraphs\n",
        "    long in length.\n",
        "    - `conclusion`: this is a short single paragraph conclusion providing a\n",
        "    concise but sophisticated view on what was found.\n",
        "    - `sources`: a bulletpoint list provided detailed sources for all information\n",
        "    referenced during the research process\n",
        "    \"\"\"\n",
        "    if type(research_steps) is list:\n",
        "        research_steps = \"\\n\".join([f\"- {r}\" for r in research_steps])\n",
        "    if type(sources) is list:\n",
        "        sources = \"\\n\".join([f\"- {s}\" for s in sources])\n",
        "    return \"\""
      ],
      "metadata": {
        "id": "N5EiPN1Re9aV"
      },
      "execution_count": null,
      "outputs": []
    },
    {
      "cell_type": "markdown",
      "source": [
        "## Create our Oracle\n",
        "\n",
        "The Oracle will be the entry-point to our research agent which will be prompted and given a set of other agents with their own tools and functions. It will decide based on the query which agent to use during the research process and as agents finish their work, it will then decide whether it has enough information or if it would like to use other agents and continue its research."
      ],
      "metadata": {
        "id": "3k3ra24Cfipv"
      }
    },
    {
      "cell_type": "markdown",
      "source": [
        "### Oralce prompt\n",
        "\n",
        "This will be the LLM prompt giving our Oracle its overarching instructions for its task. It will be given a placeholder for chat history, and accept user query, as well as giving state in the form of a scratchpad."
      ],
      "metadata": {
        "id": "WblUxMIHgBhb"
      }
    },
    {
      "cell_type": "code",
      "source": [
        "from langchain_core.prompts import ChatPromptTemplate, MessagesPlaceholder\n",
        "\n",
        "system_prompt = \"\"\"You are the oracle, the great AI decision maker.\n",
        "Given the user's query you must decide what to do with it based on the\n",
        "list of tools provided to you.\n",
        "\n",
        "If you see that a tool has been used (in the scratchpad) with a particular\n",
        "query, do NOT use that same tool with the same query again. Also, do NOT use\n",
        "any tool more than twice (ie, if the tool appears in the scratchpad twice, do\n",
        "not use it again).\n",
        "\n",
        "You should aim to collect information from a diverse range of sources before\n",
        "providing the answer to the user. Once you have collected plenty of information\n",
        "to answer the user's question (stored in the scratchpad) use the final_answer\n",
        "tool.\"\"\"\n",
        "\n",
        "prompt = ChatPromptTemplate.from_messages([\n",
        "    (\"system\", system_prompt),\n",
        "    MessagesPlaceholder(variable_name=\"chat_history\"),\n",
        "    (\"user\", \"{input}\"),\n",
        "    (\"assistant\", \"scratchpad: {scratchpad}\"),\n",
        "])"
      ],
      "metadata": {
        "id": "8E0o-Q78fL9u"
      },
      "execution_count": null,
      "outputs": []
    },
    {
      "cell_type": "markdown",
      "source": [
        "Now we pass in all of our parameters to an instantiation of our LLM. We have chosen OpenAI's `GPT-4` LLM, but this is where you may decide to chose another model of your choosing and the temperature (determinism) you want to give it.\n",
        "\n",
        "The runnable connects our inputs (the user `input` and `chat_history`) to our `prompt`, and our `prompt` to our `llm`. It is also where we _bind_ our tools to the LLM and enforce function calling via `tool_choice=\"any\"`."
      ],
      "metadata": {
        "id": "FBzA2kV-gsYL"
      }
    },
    {
      "cell_type": "code",
      "source": [
        "from langchain_core.messages import ToolCall, ToolMessage\n",
        "from langchain_openai import ChatOpenAI\n",
        "\n",
        "llm = ChatOpenAI(\n",
        "    model=\"gpt-4o\",\n",
        "    openai_api_key=os.environ[\"OPENAI_API_KEY\"],\n",
        "    temperature=0\n",
        ")\n",
        "\n",
        "tools=[\n",
        "    rag_search_filter,\n",
        "    rag_search,\n",
        "    fetch_arxiv,\n",
        "    web_search,\n",
        "    final_answer\n",
        "]\n",
        "\n",
        "# define a function to transform intermediate_steps from list\n",
        "# of AgentAction to scratchpad string\n",
        "def create_scratchpad(intermediate_steps: list[AgentAction]):\n",
        "    research_steps = []\n",
        "    for i, action in enumerate(intermediate_steps):\n",
        "        if action.log != \"TBD\":\n",
        "            # this was the ToolExecution\n",
        "            research_steps.append(\n",
        "                f\"Tool: {action.tool}, input: {action.tool_input}\\n\"\n",
        "                f\"Output: {action.log}\"\n",
        "            )\n",
        "    return \"\\n---\\n\".join(research_steps)\n",
        "\n",
        "oracle = (\n",
        "    {\n",
        "        \"input\": lambda x: x[\"input\"],\n",
        "        \"chat_history\": lambda x: x[\"chat_history\"],\n",
        "        \"scratchpad\": lambda x: create_scratchpad(\n",
        "            intermediate_steps=x[\"intermediate_steps\"]\n",
        "        ),\n",
        "    }\n",
        "    | prompt\n",
        "    | llm.bind_tools(tools, tool_choice=\"any\")\n",
        ")"
      ],
      "metadata": {
        "id": "P-MfTn7ZgiyS"
      },
      "execution_count": null,
      "outputs": []
    },
    {
      "cell_type": "markdown",
      "source": [
        "## Nodes of the Graph\n",
        "\n",
        "We will be passing the tool use decision to our `router` which will _route_ the output to the chosen node component to run (we define these below) based on the `out.tool_calls[0][\"name\"]` value."
      ],
      "metadata": {
        "id": "eT6rkA9Ukttq"
      }
    },
    {
      "cell_type": "code",
      "source": [
        "def run_oracle(state: list):\n",
        "    print(\"run_oracle\")\n",
        "    print(f\"intermediate_steps: {state['intermediate_steps']}\")\n",
        "    out = oracle.invoke(state)\n",
        "    tool_name = out.tool_calls[0][\"name\"]\n",
        "    tool_args = out.tool_calls[0][\"args\"]\n",
        "    action_out = AgentAction(\n",
        "        tool=tool_name,\n",
        "        tool_input=tool_args,\n",
        "        log=\"TBD\"\n",
        "    )\n",
        "    return {\n",
        "        \"intermediate_steps\": [action_out]\n",
        "    }\n",
        "\n",
        "def router(state: list):\n",
        "    # return the tool name to use\n",
        "    if isinstance(state[\"intermediate_steps\"], list):\n",
        "        return state[\"intermediate_steps\"][-1].tool\n",
        "    else:\n",
        "        # if we output bad format go to final answer\n",
        "        print(\"Router invalid format\")\n",
        "        return \"final_answer\""
      ],
      "metadata": {
        "id": "mSNaKwdahi_K"
      },
      "execution_count": null,
      "outputs": []
    },
    {
      "cell_type": "markdown",
      "source": [
        "All of our tools can be run using the same function logic, which we define with `run_tool`. The input parameters to our tool call and the resultant output are added to our graph state's `intermediate_steps` parameter."
      ],
      "metadata": {
        "id": "-71ffhnJk_8n"
      }
    },
    {
      "cell_type": "code",
      "source": [
        "tool_str_to_func = {\n",
        "    \"rag_search_filter\": rag_search_filter,\n",
        "    \"rag_search\": rag_search,\n",
        "    \"fetch_arxiv\": fetch_arxiv,\n",
        "    \"web_search\": web_search,\n",
        "    \"final_answer\": final_answer\n",
        "}\n",
        "\n",
        "def run_tool(state: list):\n",
        "    # use this as helper function so we repeat less code\n",
        "    tool_name = state[\"intermediate_steps\"][-1].tool\n",
        "    tool_args = state[\"intermediate_steps\"][-1].tool_input\n",
        "    print(f\"{tool_name}.invoke(input={tool_args})\")\n",
        "    # run tool\n",
        "    out = tool_str_to_func[tool_name].invoke(input=tool_args)\n",
        "    action_out = AgentAction(\n",
        "        tool=tool_name,\n",
        "        tool_input=tool_args,\n",
        "        log=str(out)\n",
        "    )\n",
        "    return {\"intermediate_steps\": [action_out]}"
      ],
      "metadata": {
        "id": "CjJMiqgWk6Wi"
      },
      "execution_count": null,
      "outputs": []
    },
    {
      "cell_type": "markdown",
      "source": [
        "## Define our Graph\n",
        "\n",
        "This will outline our entry node, or Oracle, the different paths the graph can take from the Oracle, or the different Agents and the tool calls it can make use of, and lastly, or exit point."
      ],
      "metadata": {
        "id": "0pD7l9bTlEq-"
      }
    },
    {
      "cell_type": "code",
      "source": [
        "from langgraph.graph import StateGraph, END\n",
        "\n",
        "graph = StateGraph(AgentState)\n",
        "\n",
        "graph.add_node(\"oracle\", run_oracle)\n",
        "graph.add_node(\"rag_search_filter\", run_tool)\n",
        "graph.add_node(\"rag_search\", run_tool)\n",
        "graph.add_node(\"fetch_arxiv\", run_tool)\n",
        "graph.add_node(\"web_search\", run_tool)\n",
        "graph.add_node(\"final_answer\", run_tool)\n",
        "\n",
        "graph.set_entry_point(\"oracle\")\n",
        "\n",
        "graph.add_conditional_edges(\n",
        "    source=\"oracle\",  # where in graph to start\n",
        "    path=router,  # function to determine which node is called\n",
        ")\n",
        "\n",
        "# create edges from each tool back to the oracle\n",
        "for tool_obj in tools:\n",
        "    if tool_obj.name != \"final_answer\":\n",
        "        graph.add_edge(tool_obj.name, \"oracle\")\n",
        "\n",
        "# if anything goes to final answer, it must then move to END\n",
        "graph.add_edge(\"final_answer\", END)\n",
        "\n",
        "runnable = graph.compile()"
      ],
      "metadata": {
        "id": "pfb-Jf9ElCHK"
      },
      "execution_count": null,
      "outputs": []
    },
    {
      "cell_type": "markdown",
      "source": [
        "Let's visualize what our multi-agent graph looks like."
      ],
      "metadata": {
        "id": "rngbytQJldiJ"
      }
    },
    {
      "cell_type": "code",
      "source": [
        "from IPython.display import Image, display\n",
        "\n",
        "display(Image(runnable.get_graph(xray=True).draw_mermaid_png()))"
      ],
      "metadata": {
        "colab": {
          "base_uri": "https://localhost:8080/",
          "height": 350
        },
        "id": "A3Qk4IjflbN0",
        "outputId": "4b464e48-7e5c-4895-9c40-2c08c5167b19"
      },
      "execution_count": null,
      "outputs": [
        {
          "output_type": "display_data",
          "data": {
            "image/png": "[encoded data removed]",
            "text/plain": [
              "<IPython.core.display.Image object>"
            ]
          },
          "metadata": {}
        }
      ]
    },
    {
      "cell_type": "markdown",
      "source": [
        "## Run a research\n",
        "\n",
        "Now we can query our multi-agent graph and watch the steps the oracle chooses to take with the agents and tools it has available to it."
      ],
      "metadata": {
        "id": "clxls5sEl_N5"
      }
    },
    {
      "cell_type": "code",
      "source": [
        "out = runnable.invoke({\n",
        "    \"input\": \"What are new findings in the crypto world which could help in investing?\",\n",
        "    \"chat_history\": []\n",
        "})"
      ],
      "metadata": {
        "colab": {
          "base_uri": "https://localhost:8080/"
        },
        "id": "WV8z7diZliai",
        "outputId": "8827c70f-818b-4659-8801-1f230df36ce1"
      },
      "execution_count": null,
      "outputs": [
        {
          "output_type": "stream",
          "name": "stdout",
          "text": [
            "run_oracle\n",
            "intermediate_steps: []\n",
            "web_search.invoke(input={'query': 'new findings in cryptocurrency investing 2023'})\n",
            "run_oracle\n",
            "intermediate_steps: [AgentAction(tool='web_search', tool_input={'query': 'new findings in cryptocurrency investing 2023'}, log='TBD'), AgentAction(tool='web_search', tool_input={'query': 'new findings in cryptocurrency investing 2023'}, log=\"2025 Cryptocurrency Adoption and Consumer Sentiment ...\\nBitcoin's upward trend, which started in 2023, gained momentum in 2024, pushing prices to new all-time highs and outperforming the S&P 500.\\nhttps://www.security.org/digital-security/cryptocurrency-annual-consumer-report/\\n---\\nCrypto Survey | Strategy&\\n1. Rising allocated share of total wealth attributed to cryptocurrencies and digital assets across regions · 2. Bitcoin remains the most popular digital asset, ...\\nhttps://www.strategyand.pwc.com/de/en/industries/financial-services/crypto-survey.html\\n---\\nThe Path Forward For Digital Assets and Crypto in 2023\\nWe expect innovation will continue in most areas of the digital asset ecosystem. There is strong potential for growth in stablecoins for use in real- world ...\\nhttps://www.marshmclennan.com/insights/publications/2023/april/the-path-forward-for-digital-assets-and-crypto-in-2023.html\\n---\\n2023 Cryptocurrency Gains by Country\\n2023 estimated total cryptocurrency gains. Overall, we estimate that all crypto investors achieved total gains of $37.6 billion in 2023.\\nhttps://www.chainalysis.com/blog/cryptocurrency-gains-by-country-2023/\\n---\\n2024 Cryptocurrency Adoption and Sentiment Report\\nKey Findings · 21% of non-owners said the anticipated Bitcoin ETF makes them more likely to invest in cryptocurrency. This means as many as 29 ...\\nhttps://www.security.org/digital-security/cryptocurrency-annual-consumer-report/2024/\")]\n",
            "rag_search.invoke(input={'query': 'new findings in cryptocurrency investing 2023'})\n",
            "run_oracle\n",
            "intermediate_steps: [AgentAction(tool='web_search', tool_input={'query': 'new findings in cryptocurrency investing 2023'}, log='TBD'), AgentAction(tool='web_search', tool_input={'query': 'new findings in cryptocurrency investing 2023'}, log=\"2025 Cryptocurrency Adoption and Consumer Sentiment ...\\nBitcoin's upward trend, which started in 2023, gained momentum in 2024, pushing prices to new all-time highs and outperforming the S&P 500.\\nhttps://www.security.org/digital-security/cryptocurrency-annual-consumer-report/\\n---\\nCrypto Survey | Strategy&\\n1. Rising allocated share of total wealth attributed to cryptocurrencies and digital assets across regions · 2. Bitcoin remains the most popular digital asset, ...\\nhttps://www.strategyand.pwc.com/de/en/industries/financial-services/crypto-survey.html\\n---\\nThe Path Forward For Digital Assets and Crypto in 2023\\nWe expect innovation will continue in most areas of the digital asset ecosystem. There is strong potential for growth in stablecoins for use in real- world ...\\nhttps://www.marshmclennan.com/insights/publications/2023/april/the-path-forward-for-digital-assets-and-crypto-in-2023.html\\n---\\n2023 Cryptocurrency Gains by Country\\n2023 estimated total cryptocurrency gains. Overall, we estimate that all crypto investors achieved total gains of $37.6 billion in 2023.\\nhttps://www.chainalysis.com/blog/cryptocurrency-gains-by-country-2023/\\n---\\n2024 Cryptocurrency Adoption and Sentiment Report\\nKey Findings · 21% of non-owners said the anticipated Bitcoin ETF makes them more likely to invest in cryptocurrency. This means as many as 29 ...\\nhttps://www.security.org/digital-security/cryptocurrency-annual-consumer-report/2024/\"), AgentAction(tool='rag_search', tool_input={'query': 'new findings in cryptocurrency investing 2023'}, log='TBD'), AgentAction(tool='rag_search', tool_input={'query': 'new findings in cryptocurrency investing 2023'}, log='Title: The Rise and Fall of Cryptocurrencies: Defining the Economic and Social\\n  Values of Blockchain Technologies, assessing the Opportunities, and defining\\n  the Financial and Cybersecurity Risks of the Metaverse\\nContent: Between 2020 and 2022, investment in \\ncryptocurrencies (crypto) exploded.\\nArXiv ID: 2309.12322#51\\nRelated Papers: 2309.12322\\n\\n---\\nTitle: The Rise and Fall of Cryptocurrencies: Defining the Economic and Social\\n  Values of Blockchain Technologies, assessing the Opportunities, and defining\\n  the Financial and Cybersecurity Risks of the Metaverse\\nContent: A final  comment on investing in crypto, despite the remarkable returns  some \\ninvestors have benefited from, the crypto market has not matured yet, and the \\nmarket – including the technology – is still evolving.\\nArXiv ID: 2309.12322#615\\nRelated Papers: 2309.12322\\n')]\n",
            "rag_search_filter.invoke(input={'query': 'new findings in cryptocurrency investing 2023', 'arxiv_id': '2309.12322'})\n",
            "run_oracle\n",
            "intermediate_steps: [AgentAction(tool='web_search', tool_input={'query': 'new findings in cryptocurrency investing 2023'}, log='TBD'), AgentAction(tool='web_search', tool_input={'query': 'new findings in cryptocurrency investing 2023'}, log=\"2025 Cryptocurrency Adoption and Consumer Sentiment ...\\nBitcoin's upward trend, which started in 2023, gained momentum in 2024, pushing prices to new all-time highs and outperforming the S&P 500.\\nhttps://www.security.org/digital-security/cryptocurrency-annual-consumer-report/\\n---\\nCrypto Survey | Strategy&\\n1. Rising allocated share of total wealth attributed to cryptocurrencies and digital assets across regions · 2. Bitcoin remains the most popular digital asset, ...\\nhttps://www.strategyand.pwc.com/de/en/industries/financial-services/crypto-survey.html\\n---\\nThe Path Forward For Digital Assets and Crypto in 2023\\nWe expect innovation will continue in most areas of the digital asset ecosystem. There is strong potential for growth in stablecoins for use in real- world ...\\nhttps://www.marshmclennan.com/insights/publications/2023/april/the-path-forward-for-digital-assets-and-crypto-in-2023.html\\n---\\n2023 Cryptocurrency Gains by Country\\n2023 estimated total cryptocurrency gains. Overall, we estimate that all crypto investors achieved total gains of $37.6 billion in 2023.\\nhttps://www.chainalysis.com/blog/cryptocurrency-gains-by-country-2023/\\n---\\n2024 Cryptocurrency Adoption and Sentiment Report\\nKey Findings · 21% of non-owners said the anticipated Bitcoin ETF makes them more likely to invest in cryptocurrency. This means as many as 29 ...\\nhttps://www.security.org/digital-security/cryptocurrency-annual-consumer-report/2024/\"), AgentAction(tool='rag_search', tool_input={'query': 'new findings in cryptocurrency investing 2023'}, log='TBD'), AgentAction(tool='rag_search', tool_input={'query': 'new findings in cryptocurrency investing 2023'}, log='Title: The Rise and Fall of Cryptocurrencies: Defining the Economic and Social\\n  Values of Blockchain Technologies, assessing the Opportunities, and defining\\n  the Financial and Cybersecurity Risks of the Metaverse\\nContent: Between 2020 and 2022, investment in \\ncryptocurrencies (crypto) exploded.\\nArXiv ID: 2309.12322#51\\nRelated Papers: 2309.12322\\n\\n---\\nTitle: The Rise and Fall of Cryptocurrencies: Defining the Economic and Social\\n  Values of Blockchain Technologies, assessing the Opportunities, and defining\\n  the Financial and Cybersecurity Risks of the Metaverse\\nContent: A final  comment on investing in crypto, despite the remarkable returns  some \\ninvestors have benefited from, the crypto market has not matured yet, and the \\nmarket – including the technology – is still evolving.\\nArXiv ID: 2309.12322#615\\nRelated Papers: 2309.12322\\n'), AgentAction(tool='rag_search_filter', tool_input={'query': 'new findings in cryptocurrency investing 2023', 'arxiv_id': '2309.12322'}, log='TBD'), AgentAction(tool='rag_search_filter', tool_input={'query': 'new findings in cryptocurrency investing 2023', 'arxiv_id': '2309.12322'}, log='')]\n",
            "fetch_arxiv.invoke(input={'arxiv_id': '2309.12322'})\n",
            "run_oracle\n",
            "intermediate_steps: [AgentAction(tool='web_search', tool_input={'query': 'new findings in cryptocurrency investing 2023'}, log='TBD'), AgentAction(tool='web_search', tool_input={'query': 'new findings in cryptocurrency investing 2023'}, log=\"2025 Cryptocurrency Adoption and Consumer Sentiment ...\\nBitcoin's upward trend, which started in 2023, gained momentum in 2024, pushing prices to new all-time highs and outperforming the S&P 500.\\nhttps://www.security.org/digital-security/cryptocurrency-annual-consumer-report/\\n---\\nCrypto Survey | Strategy&\\n1. Rising allocated share of total wealth attributed to cryptocurrencies and digital assets across regions · 2. Bitcoin remains the most popular digital asset, ...\\nhttps://www.strategyand.pwc.com/de/en/industries/financial-services/crypto-survey.html\\n---\\nThe Path Forward For Digital Assets and Crypto in 2023\\nWe expect innovation will continue in most areas of the digital asset ecosystem. There is strong potential for growth in stablecoins for use in real- world ...\\nhttps://www.marshmclennan.com/insights/publications/2023/april/the-path-forward-for-digital-assets-and-crypto-in-2023.html\\n---\\n2023 Cryptocurrency Gains by Country\\n2023 estimated total cryptocurrency gains. Overall, we estimate that all crypto investors achieved total gains of $37.6 billion in 2023.\\nhttps://www.chainalysis.com/blog/cryptocurrency-gains-by-country-2023/\\n---\\n2024 Cryptocurrency Adoption and Sentiment Report\\nKey Findings · 21% of non-owners said the anticipated Bitcoin ETF makes them more likely to invest in cryptocurrency. This means as many as 29 ...\\nhttps://www.security.org/digital-security/cryptocurrency-annual-consumer-report/2024/\"), AgentAction(tool='rag_search', tool_input={'query': 'new findings in cryptocurrency investing 2023'}, log='TBD'), AgentAction(tool='rag_search', tool_input={'query': 'new findings in cryptocurrency investing 2023'}, log='Title: The Rise and Fall of Cryptocurrencies: Defining the Economic and Social\\n  Values of Blockchain Technologies, assessing the Opportunities, and defining\\n  the Financial and Cybersecurity Risks of the Metaverse\\nContent: Between 2020 and 2022, investment in \\ncryptocurrencies (crypto) exploded.\\nArXiv ID: 2309.12322#51\\nRelated Papers: 2309.12322\\n\\n---\\nTitle: The Rise and Fall of Cryptocurrencies: Defining the Economic and Social\\n  Values of Blockchain Technologies, assessing the Opportunities, and defining\\n  the Financial and Cybersecurity Risks of the Metaverse\\nContent: A final  comment on investing in crypto, despite the remarkable returns  some \\ninvestors have benefited from, the crypto market has not matured yet, and the \\nmarket – including the technology – is still evolving.\\nArXiv ID: 2309.12322#615\\nRelated Papers: 2309.12322\\n'), AgentAction(tool='rag_search_filter', tool_input={'query': 'new findings in cryptocurrency investing 2023', 'arxiv_id': '2309.12322'}, log='TBD'), AgentAction(tool='rag_search_filter', tool_input={'query': 'new findings in cryptocurrency investing 2023', 'arxiv_id': '2309.12322'}, log=''), AgentAction(tool='fetch_arxiv', tool_input={'arxiv_id': '2309.12322'}, log='TBD'), AgentAction(tool='fetch_arxiv', tool_input={'arxiv_id': '2309.12322'}, log='This paper contextualises the common queries of \"why is crypto crashing?\" and\\n\"why is crypto down?\", the research transcends beyond the frequent market\\nfluctuations to unravel how cryptocurrencies fundamentally work and the\\nstep-by-step process on how to create a cryptocurrency.\\n<br />The study examines blockchain technologies and their pivotal role in the\\nevolving Metaverse, shedding light on topics such as how to invest in\\ncryptocurrency, the mechanics behind crypto mining, and strategies to\\neffectively buy and trade cryptocurrencies. Through an interdisciplinary\\napproach, the research transitions from the fundamental principles of fintech\\ninvestment strategies to the overarching implications of blockchain within the\\nMetaverse. Alongside exploring machine learning potentials in financial sectors\\nand risk assessment methodologies, the study critically assesses whether\\ndeveloped or developing nations are poised to reap greater benefits from these\\ntechnologies. Moreover, it probes into both enduring and dubious crypto\\nprojects, drawing a distinct line between genuine blockchain applications and\\nPonzi-like schemes. The conclusion resolutely affirms the continuing dominance\\nof blockchain technologies, underlined by a profound exploration of their\\nintrinsic value and a reflective commentary by the author on the potential\\nrisks confronting individual investors.')]\n",
            "final_answer.invoke(input={'introduction': 'The cryptocurrency market is a dynamic and rapidly evolving sector, attracting investors with its potential for high returns. Recent developments in 2023 have introduced new findings that could influence investment strategies in this space.', 'research_steps': '- Conducted a web search to gather recent findings in cryptocurrency investing for 2023.\\n- Utilized a specialist AI search to find detailed insights on cryptocurrency investment trends.\\n- Retrieved and analyzed an ArXiv paper to understand the broader implications of blockchain technologies and investment strategies.', 'main_body': 'In 2023, the cryptocurrency market has seen significant developments that could impact investment strategies. A key finding is the continued upward trend of Bitcoin, which has outperformed traditional indices like the S&P 500. This trend suggests a growing confidence in Bitcoin as a store of value and a hedge against inflation, making it an attractive option for investors seeking diversification.\\n\\nAdditionally, there is a notable increase in the allocated share of total wealth attributed to cryptocurrencies and digital assets across various regions. This shift indicates a broader acceptance and integration of digital assets into mainstream financial portfolios. The anticipated approval of a Bitcoin ETF has also sparked interest among non-owners, potentially leading to increased market participation.\\n\\nFrom a technological perspective, blockchain technologies continue to play a pivotal role in the evolving Metaverse. The integration of machine learning in financial sectors and the development of risk assessment methodologies are enhancing the investment landscape. However, the market remains volatile, and the technology is still evolving, which poses risks for individual investors. The distinction between genuine blockchain applications and dubious projects is crucial for informed investment decisions.', 'conclusion': \"The cryptocurrency market in 2023 presents both opportunities and challenges for investors. While the potential for high returns remains, the market's volatility and evolving nature require careful consideration and strategic planning. Investors should stay informed about technological advancements and regulatory developments to navigate this complex landscape effectively.\", 'sources': \"- Security.org's 2023 Cryptocurrency Annual Consumer Report\\n- Strategy&'s Crypto Survey\\n- Marsh McLennan's insights on digital assets and crypto in 2023\\n- Chainalysis' report on cryptocurrency gains by country in 2023\\n- ArXiv paper ID 2309.12322 on the economic and social values of blockchain technologies\"})\n"
          ]
        }
      ]
    },
    {
      "cell_type": "markdown",
      "source": [
        "Now let's build a report and format the research."
      ],
      "metadata": {
        "id": "XnDyNna7mXyD"
      }
    },
    {
      "cell_type": "code",
      "source": [
        "def build_report(output: dict):\n",
        "    research_steps = output[\"research_steps\"]\n",
        "    if type(research_steps) is list:\n",
        "        research_steps = \"\\n\".join([f\"- {r}\" for r in research_steps])\n",
        "    sources = output[\"sources\"]\n",
        "    if type(sources) is list:\n",
        "        sources = \"\\n\".join([f\"- {s}\" for s in sources])\n",
        "    return f\"\"\"\n",
        "INTRODUCTION\n",
        "------------\n",
        "{output[\"introduction\"]}\n",
        "\n",
        "RESEARCH STEPS\n",
        "--------------\n",
        "{research_steps}\n",
        "\n",
        "REPORT\n",
        "------\n",
        "{output[\"main_body\"]}\n",
        "\n",
        "CONCLUSION\n",
        "----------\n",
        "{output[\"conclusion\"]}\n",
        "\n",
        "SOURCES\n",
        "-------\n",
        "{sources}\n",
        "\"\"\""
      ],
      "metadata": {
        "id": "jc55VKRImnAR"
      },
      "execution_count": null,
      "outputs": []
    },
    {
      "cell_type": "code",
      "source": [
        "print(build_report(\n",
        "    output=out[\"intermediate_steps\"][-1].tool_input\n",
        "))"
      ],
      "metadata": {
        "colab": {
          "base_uri": "https://localhost:8080/"
        },
        "id": "eiWZUu-8mLS8",
        "outputId": "7425874e-5bf4-4944-b480-ed783b22a3e5"
      },
      "execution_count": null,
      "outputs": [
        {
          "output_type": "stream",
          "name": "stdout",
          "text": [
            "\n",
            "INTRODUCTION\n",
            "------------\n",
            "The cryptocurrency market is a dynamic and rapidly evolving sector, attracting investors with its potential for high returns. Recent developments in 2023 have introduced new findings that could influence investment strategies in this space.\n",
            "\n",
            "RESEARCH STEPS\n",
            "--------------\n",
            "- Conducted a web search to gather recent findings in cryptocurrency investing for 2023.\n",
            "- Utilized a specialist AI search to find detailed insights on cryptocurrency investment trends.\n",
            "- Retrieved and analyzed an ArXiv paper to understand the broader implications of blockchain technologies and investment strategies.\n",
            "\n",
            "REPORT\n",
            "------\n",
            "In 2023, the cryptocurrency market has seen significant developments that could impact investment strategies. A key finding is the continued upward trend of Bitcoin, which has outperformed traditional indices like the S&P 500. This trend suggests a growing confidence in Bitcoin as a store of value and a hedge against inflation, making it an attractive option for investors seeking diversification.\n",
            "\n",
            "Additionally, there is a notable increase in the allocated share of total wealth attributed to cryptocurrencies and digital assets across various regions. This shift indicates a broader acceptance and integration of digital assets into mainstream financial portfolios. The anticipated approval of a Bitcoin ETF has also sparked interest among non-owners, potentially leading to increased market participation.\n",
            "\n",
            "From a technological perspective, blockchain technologies continue to play a pivotal role in the evolving Metaverse. The integration of machine learning in financial sectors and the development of risk assessment methodologies are enhancing the investment landscape. However, the market remains volatile, and the technology is still evolving, which poses risks for individual investors. The distinction between genuine blockchain applications and dubious projects is crucial for informed investment decisions.\n",
            "\n",
            "CONCLUSION\n",
            "----------\n",
            "The cryptocurrency market in 2023 presents both opportunities and challenges for investors. While the potential for high returns remains, the market's volatility and evolving nature require careful consideration and strategic planning. Investors should stay informed about technological advancements and regulatory developments to navigate this complex landscape effectively.\n",
            "\n",
            "SOURCES\n",
            "-------\n",
            "- Security.org's 2023 Cryptocurrency Annual Consumer Report\n",
            "- Strategy&'s Crypto Survey\n",
            "- Marsh McLennan's insights on digital assets and crypto in 2023\n",
            "- Chainalysis' report on cryptocurrency gains by country in 2023\n",
            "- ArXiv paper ID 2309.12322 on the economic and social values of blockchain technologies\n",
            "\n"
          ]
        }
      ]
    }
  ]
}